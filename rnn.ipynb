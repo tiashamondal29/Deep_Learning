{
  "cells": [
    {
      "cell_type": "markdown",
      "metadata": {
        "id": "view-in-github",
        "colab_type": "text"
      },
      "source": [
        "<a href=\"https://colab.research.google.com/github/tiashamondal29/Deep_Learning/blob/main/rnn.ipynb\" target=\"_parent\"><img src=\"https://colab.research.google.com/assets/colab-badge.svg\" alt=\"Open In Colab\"/></a>"
      ]
    },
    {
      "cell_type": "markdown",
      "metadata": {
        "id": "xpAuMVCwfWs8"
      },
      "source": [
        "# Recurrent Neural Network"
      ]
    },
    {
      "cell_type": "markdown",
      "metadata": {
        "id": "nxJfRe4bfYVA"
      },
      "source": [
        "## Part 1 - Data Preprocessing"
      ]
    },
    {
      "cell_type": "markdown",
      "metadata": {
        "id": "ir9zwETrfbrp"
      },
      "source": [
        "### Importing the libraries"
      ]
    },
    {
      "cell_type": "code",
      "execution_count": null,
      "metadata": {
        "id": "ZT1f24vHffuf"
      },
      "outputs": [],
      "source": [
        "import numpy as np\n",
        "import matplotlib.pyplot as plt\n",
        "import pandas as pd"
      ]
    },
    {
      "cell_type": "markdown",
      "metadata": {
        "id": "nQ47JAxrgmaL"
      },
      "source": [
        "### Importing the training set"
      ]
    },
    {
      "cell_type": "code",
      "execution_count": null,
      "metadata": {
        "colab": {
          "base_uri": "https://localhost:8080/"
        },
        "id": "1xiv3pJOgqY3",
        "outputId": "e82f0700-4e67-44bd-dfa6-245dbbf46c60"
      },
      "outputs": [
        {
          "output_type": "execute_result",
          "data": {
            "text/plain": [
              "array([[325.25],\n",
              "       [331.27],\n",
              "       [329.83],\n",
              "       ...,\n",
              "       [793.7 ],\n",
              "       [783.33],\n",
              "       [782.75]])"
            ]
          },
          "metadata": {},
          "execution_count": 2
        }
      ],
      "source": [
        "dataset_train = pd.read_csv('Google_Stock_Price_Train.csv')\n",
        "training_set = dataset_train.iloc[:, 1:2].values\n",
        "\n",
        "training_set"
      ]
    },
    {
      "cell_type": "markdown",
      "metadata": {
        "id": "HT8_2UJegtG5"
      },
      "source": [
        "### Feature Scaling"
      ]
    },
    {
      "cell_type": "code",
      "execution_count": null,
      "metadata": {
        "id": "OTrF2kR7gx9x"
      },
      "outputs": [],
      "source": [
        "#Applying the Normalization for each data in the trainingg set, getting values between 0 to 1 of each element\n",
        "from sklearn.preprocessing import MinMaxScaler\n",
        "sc = MinMaxScaler(feature_range = (0, 1))\n",
        "training_set_scaled = sc.fit_transform(training_set)"
      ]
    },
    {
      "cell_type": "markdown",
      "metadata": {
        "id": "JyYgYocqhNUg"
      },
      "source": [
        "### Creating a data structure with 60 timesteps and 1 output"
      ]
    },
    {
      "cell_type": "code",
      "execution_count": null,
      "metadata": {
        "id": "iofU21B0i6ST"
      },
      "outputs": [],
      "source": [
        "X_train = []\n",
        "y_train = []\n",
        "\n",
        "for i in range(60, 1258):\n",
        "    X_train.append(training_set_scaled[i-60:i, 0])\n",
        "    y_train.append(training_set_scaled[i, 0])\n",
        "X_train, y_train = np.array(X_train), np.array(y_train)"
      ]
    },
    {
      "cell_type": "code",
      "execution_count": null,
      "metadata": {
        "colab": {
          "base_uri": "https://localhost:8080/"
        },
        "id": "vw8fnPu33nmE",
        "outputId": "da3bde54-87ce-4018-e478-d4b2b8676098"
      },
      "outputs": [
        {
          "output_type": "execute_result",
          "data": {
            "text/plain": [
              "(array([[0.08581368, 0.09701243, 0.09433366, ..., 0.07846566, 0.08034452,\n",
              "         0.08497656],\n",
              "        [0.09701243, 0.09433366, 0.09156187, ..., 0.08034452, 0.08497656,\n",
              "         0.08627874],\n",
              "        [0.09433366, 0.09156187, 0.07984225, ..., 0.08497656, 0.08627874,\n",
              "         0.08471612],\n",
              "        ...,\n",
              "        [0.92106928, 0.92438053, 0.93048218, ..., 0.95475854, 0.95204256,\n",
              "         0.95163331],\n",
              "        [0.92438053, 0.93048218, 0.9299055 , ..., 0.95204256, 0.95163331,\n",
              "         0.95725128],\n",
              "        [0.93048218, 0.9299055 , 0.93113327, ..., 0.95163331, 0.95725128,\n",
              "         0.93796041]]),\n",
              " array([0.08627874, 0.08471612, 0.07454052, ..., 0.95725128, 0.93796041,\n",
              "        0.93688146]))"
            ]
          },
          "metadata": {},
          "execution_count": 5
        }
      ],
      "source": [
        "X_train, y_train"
      ]
    },
    {
      "cell_type": "markdown",
      "metadata": {
        "id": "D8yaN7Zvi95l"
      },
      "source": [
        "### Reshaping"
      ]
    },
    {
      "cell_type": "code",
      "execution_count": null,
      "metadata": {
        "id": "FOXqJHmNjBkz"
      },
      "outputs": [],
      "source": [
        "#X_train consists of 3 dimensions now, 1st dim - no of stock prices, 2nd dim - no of timesteps, 3rd dim - no of indicators\n",
        "X_train = np.reshape(X_train, (X_train.shape[0], X_train.shape[1], 1)) "
      ]
    },
    {
      "cell_type": "code",
      "execution_count": null,
      "metadata": {
        "colab": {
          "base_uri": "https://localhost:8080/"
        },
        "id": "DxdF7huQ3nmF",
        "outputId": "0e5b84f0-85f7-4f32-a570-185010c62dd2"
      },
      "outputs": [
        {
          "output_type": "execute_result",
          "data": {
            "text/plain": [
              "(1198, 60, 1)"
            ]
          },
          "metadata": {},
          "execution_count": 7
        }
      ],
      "source": [
        "X_train.shape"
      ]
    },
    {
      "cell_type": "markdown",
      "metadata": {
        "id": "ZRRSOJeVjEWV"
      },
      "source": [
        "## Part 2 - Building and Training the RNN"
      ]
    },
    {
      "cell_type": "markdown",
      "metadata": {
        "id": "k4XV88JMjHXG"
      },
      "source": [
        "### Importing the Keras libraries and packages"
      ]
    },
    {
      "cell_type": "code",
      "execution_count": null,
      "metadata": {
        "id": "9JRnqsxEjKsD"
      },
      "outputs": [],
      "source": [
        "from keras.models import Sequential #for sequence of layers\n",
        "from keras.layers import Dense #for output layer\n",
        "from keras.layers import LSTM #for adding LSTM Layer\n",
        "from keras.layers import Dropout #for the dropout layer"
      ]
    },
    {
      "cell_type": "markdown",
      "metadata": {
        "id": "FEIE-1s9jNzC"
      },
      "source": [
        "### Initialising the RNN"
      ]
    },
    {
      "cell_type": "code",
      "execution_count": null,
      "metadata": {
        "id": "1338dJ0UjRKH"
      },
      "outputs": [],
      "source": [
        "regressor = Sequential() #it regression since the output id continuous"
      ]
    },
    {
      "cell_type": "markdown",
      "metadata": {
        "id": "62eg1OPGjT8z"
      },
      "source": [
        "### Adding the first LSTM layer and some Dropout regularisation"
      ]
    },
    {
      "cell_type": "code",
      "execution_count": null,
      "metadata": {
        "id": "2hIinyXUjbVU"
      },
      "outputs": [],
      "source": [
        "regressor.add(LSTM(units=50, return_sequences=True, input_shape=(X_train.shape[1], 1)))\n",
        "regressor.add(Dropout(0.2)) #in each iteration of the training 20% of the neurons will be ignored, i.e. 10 neurons will be skipped in each iteration"
      ]
    },
    {
      "cell_type": "markdown",
      "metadata": {
        "id": "3XBIYLyOjlMx"
      },
      "source": [
        "### Adding a second LSTM layer and some Dropout regularisation"
      ]
    },
    {
      "cell_type": "code",
      "execution_count": null,
      "metadata": {
        "id": "UG7nrVaSjuZ2"
      },
      "outputs": [],
      "source": [
        "regressor.add(LSTM(units=50, return_sequences=True)) # no input shape is mentioned since input shape needs to be mentioned in the 1st layer\n",
        "regressor.add(Dropout(0.2)) #in each iteration of the training 20% of the neurons will be ignored, i.e. 10 neurons will be skipped in each iteration"
      ]
    },
    {
      "cell_type": "markdown",
      "metadata": {
        "id": "Ey3fHVnGj1cu"
      },
      "source": [
        "### Adding a third LSTM layer and some Dropout regularisation"
      ]
    },
    {
      "cell_type": "code",
      "execution_count": null,
      "metadata": {
        "id": "iluku8Xz3nmG"
      },
      "outputs": [],
      "source": [
        "regressor.add(LSTM(units=50, return_sequences=True))\n",
        "regressor.add(Dropout(0.2)) #in each iteration of the training 20% of the neurons will be ignored, i.e. 10 neurons will be skipped in each iteration"
      ]
    },
    {
      "cell_type": "markdown",
      "metadata": {
        "id": "SYTrtfTmj933"
      },
      "source": [
        "### Adding a fourth LSTM layer and some Dropout regularisation"
      ]
    },
    {
      "cell_type": "code",
      "execution_count": null,
      "metadata": {
        "id": "c1v4ntjr3nmG"
      },
      "outputs": [],
      "source": [
        "regressor.add(LSTM(units=50)) #False since this is the final LSTM layer\n",
        "regressor.add(Dropout(0.2)) #in each iteration of the training 20% of the neurons will be ignored, i.e. 10 neurons will be skipped in each iteration"
      ]
    },
    {
      "cell_type": "markdown",
      "metadata": {
        "id": "9ABI6rOIkHhk"
      },
      "source": [
        "### Adding the output layer"
      ]
    },
    {
      "cell_type": "code",
      "execution_count": null,
      "metadata": {
        "id": "ocLaoVem3nmH"
      },
      "outputs": [],
      "source": [
        "regressor.add(Dense(units = 1)) #Dimensions of tge output layer is 1"
      ]
    },
    {
      "cell_type": "markdown",
      "metadata": {
        "id": "zLx4K7uUkPSh"
      },
      "source": [
        "### Compiling the RNN"
      ]
    },
    {
      "cell_type": "code",
      "execution_count": null,
      "metadata": {
        "id": "AUCQ2laa3nmH"
      },
      "outputs": [],
      "source": [
        "regressor.compile(optimizer = 'adam', loss='mean_squared_error') #although RMSprop is the ideal optimizer for RNN,using ada is always safe"
      ]
    },
    {
      "cell_type": "markdown",
      "metadata": {
        "id": "-mPhwKGkkebi"
      },
      "source": [
        "### Fitting the RNN to the Training set"
      ]
    },
    {
      "cell_type": "code",
      "execution_count": null,
      "metadata": {
        "colab": {
          "base_uri": "https://localhost:8080/"
        },
        "id": "Qa55aSLX3nmH",
        "outputId": "2c510a9a-64a5-49f5-f719-d7cb34945645"
      },
      "outputs": [
        {
          "output_type": "stream",
          "name": "stdout",
          "text": [
            "Epoch 1/100\n",
            "38/38 [==============================] - 11s 113ms/step - loss: 0.0415\n",
            "Epoch 2/100\n",
            "38/38 [==============================] - 4s 114ms/step - loss: 0.0077\n",
            "Epoch 3/100\n",
            "38/38 [==============================] - 4s 113ms/step - loss: 0.0056\n",
            "Epoch 4/100\n",
            "38/38 [==============================] - 4s 113ms/step - loss: 0.0055\n",
            "Epoch 5/100\n",
            "38/38 [==============================] - 4s 115ms/step - loss: 0.0055\n",
            "Epoch 6/100\n",
            "38/38 [==============================] - 4s 117ms/step - loss: 0.0050\n",
            "Epoch 7/100\n",
            "38/38 [==============================] - 4s 115ms/step - loss: 0.0044\n",
            "Epoch 8/100\n",
            "38/38 [==============================] - 4s 114ms/step - loss: 0.0044\n",
            "Epoch 9/100\n",
            "38/38 [==============================] - 4s 113ms/step - loss: 0.0049\n",
            "Epoch 10/100\n",
            "38/38 [==============================] - 4s 111ms/step - loss: 0.0049\n",
            "Epoch 11/100\n",
            "38/38 [==============================] - 6s 160ms/step - loss: 0.0043\n",
            "Epoch 12/100\n",
            "38/38 [==============================] - 4s 115ms/step - loss: 0.0043\n",
            "Epoch 13/100\n",
            "38/38 [==============================] - 4s 115ms/step - loss: 0.0039\n",
            "Epoch 14/100\n",
            "38/38 [==============================] - 4s 114ms/step - loss: 0.0037\n",
            "Epoch 15/100\n",
            "38/38 [==============================] - 4s 113ms/step - loss: 0.0040\n",
            "Epoch 16/100\n",
            "38/38 [==============================] - 4s 113ms/step - loss: 0.0039\n",
            "Epoch 17/100\n",
            "38/38 [==============================] - 4s 115ms/step - loss: 0.0039\n",
            "Epoch 18/100\n",
            "38/38 [==============================] - 4s 115ms/step - loss: 0.0037\n",
            "Epoch 19/100\n",
            "38/38 [==============================] - 4s 114ms/step - loss: 0.0037\n",
            "Epoch 20/100\n",
            "38/38 [==============================] - 4s 113ms/step - loss: 0.0041\n",
            "Epoch 21/100\n",
            "38/38 [==============================] - 4s 114ms/step - loss: 0.0032\n",
            "Epoch 22/100\n",
            "38/38 [==============================] - 4s 116ms/step - loss: 0.0033\n",
            "Epoch 23/100\n",
            "38/38 [==============================] - 4s 115ms/step - loss: 0.0033\n",
            "Epoch 24/100\n",
            "38/38 [==============================] - 4s 114ms/step - loss: 0.0032\n",
            "Epoch 25/100\n",
            "38/38 [==============================] - 4s 115ms/step - loss: 0.0036\n",
            "Epoch 26/100\n",
            "38/38 [==============================] - 4s 114ms/step - loss: 0.0032\n",
            "Epoch 27/100\n",
            "38/38 [==============================] - 4s 113ms/step - loss: 0.0030\n",
            "Epoch 28/100\n",
            "38/38 [==============================] - 4s 113ms/step - loss: 0.0030\n",
            "Epoch 29/100\n",
            "38/38 [==============================] - 4s 113ms/step - loss: 0.0034\n",
            "Epoch 30/100\n",
            "38/38 [==============================] - 4s 114ms/step - loss: 0.0031\n",
            "Epoch 31/100\n",
            "38/38 [==============================] - 4s 114ms/step - loss: 0.0029\n",
            "Epoch 32/100\n",
            "38/38 [==============================] - 4s 116ms/step - loss: 0.0031\n",
            "Epoch 33/100\n",
            "38/38 [==============================] - 4s 117ms/step - loss: 0.0026\n",
            "Epoch 34/100\n",
            "38/38 [==============================] - 4s 114ms/step - loss: 0.0029\n",
            "Epoch 35/100\n",
            "38/38 [==============================] - 4s 115ms/step - loss: 0.0027\n",
            "Epoch 36/100\n",
            "38/38 [==============================] - 4s 116ms/step - loss: 0.0029\n",
            "Epoch 37/100\n",
            "38/38 [==============================] - 4s 115ms/step - loss: 0.0029\n",
            "Epoch 38/100\n",
            "38/38 [==============================] - 4s 115ms/step - loss: 0.0035\n",
            "Epoch 39/100\n",
            "38/38 [==============================] - 4s 115ms/step - loss: 0.0028\n",
            "Epoch 40/100\n",
            "38/38 [==============================] - 4s 115ms/step - loss: 0.0027\n",
            "Epoch 41/100\n",
            "38/38 [==============================] - 4s 114ms/step - loss: 0.0028\n",
            "Epoch 42/100\n",
            "38/38 [==============================] - 4s 115ms/step - loss: 0.0027\n",
            "Epoch 43/100\n",
            "38/38 [==============================] - 4s 115ms/step - loss: 0.0024\n",
            "Epoch 44/100\n",
            "38/38 [==============================] - 4s 115ms/step - loss: 0.0024\n",
            "Epoch 45/100\n",
            "38/38 [==============================] - 4s 115ms/step - loss: 0.0024\n",
            "Epoch 46/100\n",
            "38/38 [==============================] - 4s 115ms/step - loss: 0.0025\n",
            "Epoch 47/100\n",
            "38/38 [==============================] - 4s 115ms/step - loss: 0.0024\n",
            "Epoch 48/100\n",
            "38/38 [==============================] - 4s 114ms/step - loss: 0.0023\n",
            "Epoch 49/100\n",
            "38/38 [==============================] - 4s 113ms/step - loss: 0.0025\n",
            "Epoch 50/100\n",
            "38/38 [==============================] - 4s 115ms/step - loss: 0.0025\n",
            "Epoch 51/100\n",
            "38/38 [==============================] - 4s 115ms/step - loss: 0.0028\n",
            "Epoch 52/100\n",
            "38/38 [==============================] - 4s 114ms/step - loss: 0.0023\n",
            "Epoch 53/100\n",
            "38/38 [==============================] - 4s 114ms/step - loss: 0.0024\n",
            "Epoch 54/100\n",
            "38/38 [==============================] - 4s 113ms/step - loss: 0.0023\n",
            "Epoch 55/100\n",
            "38/38 [==============================] - 4s 113ms/step - loss: 0.0023\n",
            "Epoch 56/100\n",
            "38/38 [==============================] - 4s 114ms/step - loss: 0.0022\n",
            "Epoch 57/100\n",
            "38/38 [==============================] - 4s 115ms/step - loss: 0.0023\n",
            "Epoch 58/100\n",
            "38/38 [==============================] - 5s 120ms/step - loss: 0.0022\n",
            "Epoch 59/100\n",
            "38/38 [==============================] - 5s 142ms/step - loss: 0.0025\n",
            "Epoch 60/100\n",
            "38/38 [==============================] - 4s 116ms/step - loss: 0.0024\n",
            "Epoch 61/100\n",
            "38/38 [==============================] - 4s 118ms/step - loss: 0.0023\n",
            "Epoch 62/100\n",
            "38/38 [==============================] - 4s 116ms/step - loss: 0.0023\n",
            "Epoch 63/100\n",
            "38/38 [==============================] - 4s 116ms/step - loss: 0.0022\n",
            "Epoch 64/100\n",
            "38/38 [==============================] - 4s 116ms/step - loss: 0.0020\n",
            "Epoch 65/100\n",
            "38/38 [==============================] - 4s 116ms/step - loss: 0.0020\n",
            "Epoch 66/100\n",
            "38/38 [==============================] - 5s 122ms/step - loss: 0.0019\n",
            "Epoch 67/100\n",
            "38/38 [==============================] - 5s 119ms/step - loss: 0.0023\n",
            "Epoch 68/100\n",
            "38/38 [==============================] - 5s 130ms/step - loss: 0.0020\n",
            "Epoch 69/100\n",
            "38/38 [==============================] - 9s 227ms/step - loss: 0.0019\n",
            "Epoch 70/100\n",
            "38/38 [==============================] - 9s 234ms/step - loss: 0.0020\n",
            "Epoch 71/100\n",
            "38/38 [==============================] - 4s 118ms/step - loss: 0.0018\n",
            "Epoch 72/100\n",
            "38/38 [==============================] - 4s 116ms/step - loss: 0.0020\n",
            "Epoch 73/100\n",
            "38/38 [==============================] - 5s 120ms/step - loss: 0.0019\n",
            "Epoch 74/100\n",
            "38/38 [==============================] - 5s 119ms/step - loss: 0.0019\n",
            "Epoch 75/100\n",
            "38/38 [==============================] - 5s 118ms/step - loss: 0.0018\n",
            "Epoch 76/100\n",
            "38/38 [==============================] - 4s 118ms/step - loss: 0.0017\n",
            "Epoch 77/100\n",
            "38/38 [==============================] - 4s 117ms/step - loss: 0.0019\n",
            "Epoch 78/100\n",
            "38/38 [==============================] - 4s 117ms/step - loss: 0.0017\n",
            "Epoch 79/100\n",
            "38/38 [==============================] - 4s 118ms/step - loss: 0.0019\n",
            "Epoch 80/100\n",
            "38/38 [==============================] - 4s 117ms/step - loss: 0.0018\n",
            "Epoch 81/100\n",
            "38/38 [==============================] - 4s 117ms/step - loss: 0.0017\n",
            "Epoch 82/100\n",
            "38/38 [==============================] - 4s 118ms/step - loss: 0.0018\n",
            "Epoch 83/100\n",
            "38/38 [==============================] - 4s 117ms/step - loss: 0.0018\n",
            "Epoch 84/100\n",
            "38/38 [==============================] - 5s 120ms/step - loss: 0.0017\n",
            "Epoch 85/100\n",
            "38/38 [==============================] - 5s 126ms/step - loss: 0.0016\n",
            "Epoch 86/100\n",
            "38/38 [==============================] - 5s 126ms/step - loss: 0.0017\n",
            "Epoch 87/100\n",
            "38/38 [==============================] - 5s 132ms/step - loss: 0.0018\n",
            "Epoch 88/100\n",
            "38/38 [==============================] - 5s 128ms/step - loss: 0.0017\n",
            "Epoch 89/100\n",
            "38/38 [==============================] - 5s 127ms/step - loss: 0.0016\n",
            "Epoch 90/100\n",
            "38/38 [==============================] - 5s 127ms/step - loss: 0.0017\n",
            "Epoch 91/100\n",
            "38/38 [==============================] - 6s 150ms/step - loss: 0.0016\n",
            "Epoch 92/100\n",
            "38/38 [==============================] - 5s 126ms/step - loss: 0.0016\n",
            "Epoch 93/100\n",
            "38/38 [==============================] - 5s 123ms/step - loss: 0.0016\n",
            "Epoch 94/100\n",
            "38/38 [==============================] - 5s 128ms/step - loss: 0.0014\n",
            "Epoch 95/100\n",
            "38/38 [==============================] - 5s 124ms/step - loss: 0.0016\n",
            "Epoch 96/100\n",
            "38/38 [==============================] - 5s 123ms/step - loss: 0.0019\n",
            "Epoch 97/100\n",
            "38/38 [==============================] - 5s 123ms/step - loss: 0.0018\n",
            "Epoch 98/100\n",
            "38/38 [==============================] - 5s 120ms/step - loss: 0.0015\n",
            "Epoch 99/100\n",
            "38/38 [==============================] - 6s 148ms/step - loss: 0.0015\n",
            "Epoch 100/100\n",
            "38/38 [==============================] - 5s 125ms/step - loss: 0.0016\n"
          ]
        },
        {
          "output_type": "execute_result",
          "data": {
            "text/plain": [
              "<keras.callbacks.History at 0x7f2d39ea3040>"
            ]
          },
          "metadata": {},
          "execution_count": 16
        }
      ],
      "source": [
        "regressor.fit(X_train, y_train, epochs=100, batch_size=32) #X_train is the input of the neural network which is the training set , y_train is the ground truth on which we will comapre"
      ]
    },
    {
      "cell_type": "markdown",
      "metadata": {
        "id": "4hRau_lIkrE8"
      },
      "source": [
        "## Part 3 - Making the predictions and visualising the results"
      ]
    },
    {
      "cell_type": "code",
      "execution_count": null,
      "metadata": {
        "id": "IoyHK9nM3nmH"
      },
      "outputs": [],
      "source": [
        "dataset_test = pd.read_csv('Google_Stock_Price_Test.csv')\n",
        "real_stock_price = dataset_test.iloc[:, 1:2].values"
      ]
    },
    {
      "cell_type": "markdown",
      "metadata": {
        "id": "SgJO6qEDksxD"
      },
      "source": [
        "### Getting the real stock price of 2017"
      ]
    },
    {
      "cell_type": "code",
      "execution_count": null,
      "metadata": {
        "id": "q5B0qv1K3nmH"
      },
      "outputs": [],
      "source": [
        "dataset_total = pd.concat((dataset_train['Open'], dataset_test['Open']), axis=0) #as we are adding values vertically, hence axis = 0, if horizonatally then axis = 1\n",
        "inputs = dataset_total[len(dataset_total) - len(dataset_test) - 60:].values #converting to numpy array\n",
        "inputs = inputs.reshape(-1,1)\n",
        "#scaling of the inputs set\n",
        "#will just apply transform method since we need to scale the exact same way we did for the training set, hence not fit_transform, only transform\n",
        "inputs = sc.transform(inputs) "
      ]
    },
    {
      "cell_type": "markdown",
      "metadata": {
        "id": "GrvrLblxkz42"
      },
      "source": [
        "### Getting the predicted stock price of 2017"
      ]
    },
    {
      "cell_type": "code",
      "execution_count": null,
      "metadata": {
        "colab": {
          "base_uri": "https://localhost:8080/"
        },
        "id": "WIbXUWL23nmH",
        "outputId": "d3284325-4a76-4b37-89b4-1f98f499e527"
      },
      "outputs": [
        {
          "output_type": "stream",
          "name": "stdout",
          "text": [
            "1/1 [==============================] - 2s 2s/step\n",
            "[[0.9509349 ]\n",
            " [0.94700813]\n",
            " [0.9454179 ]\n",
            " [0.94588757]\n",
            " [0.9495814 ]\n",
            " [0.95756316]\n",
            " [0.96728694]\n",
            " [0.9749007 ]\n",
            " [0.97955287]\n",
            " [0.9816544 ]\n",
            " [0.98200536]\n",
            " [0.9812337 ]\n",
            " [0.9799955 ]\n",
            " [0.9793724 ]\n",
            " [0.9796426 ]\n",
            " [0.98423517]\n",
            " [0.99330544]\n",
            " [1.0054511 ]\n",
            " [1.0160136 ]\n",
            " [1.017653  ]]\n"
          ]
        }
      ],
      "source": [
        "X_test = []\n",
        "\n",
        "#60 previous stock prices and 20 days more for the 20 financial days of JAN\n",
        "for i in range(60, 80):\n",
        "    X_test.append(inputs[i-60:i, 0])\n",
        "X_test = np.array(X_test)\n",
        "\n",
        "#Make the special 3D structure as we did earlier\n",
        "X_test = np.reshape(X_test, (X_test.shape[0], X_test.shape[1], 1)) \n",
        "\n",
        "#Predicted stock price on the X_test\n",
        "predicted_stock_price = regressor.predict(X_test)\n",
        "\n",
        "print(predicted_stock_price)\n",
        "#Inverse the scaled predicted method to get the values in the original form\n",
        "predicted_stock_price = sc.inverse_transform(predicted_stock_price)\n"
      ]
    },
    {
      "cell_type": "markdown",
      "metadata": {
        "id": "iFTNs3YHk6FQ"
      },
      "source": [
        "### Visualising the results"
      ]
    },
    {
      "cell_type": "code",
      "execution_count": null,
      "metadata": {
        "colab": {
          "base_uri": "https://localhost:8080/",
          "height": 295
        },
        "id": "idIamb7X3nmI",
        "outputId": "a26f3822-93c0-4164-9a13-1edca6628945"
      },
      "outputs": [
        {
          "output_type": "display_data",
          "data": {
            "text/plain": [
              "<Figure size 432x288 with 1 Axes>"
            ],
            "image/png": "[encoded data removed]"
          },
          "metadata": {
            "needs_background": "light"
          }
        }
      ],
      "source": [
        "#Will plot the real stock prices of 2017 and the predicted stock price of 2017\n",
        "plt.plot(real_stock_price, color = 'red', label = 'Real Google Stock Price')\n",
        "plt.plot(predicted_stock_price, color = 'blue', label = 'Predicted Google Stock Price')\n",
        "plt.title('Google Stock Price prediction')\n",
        "plt.xlabel('Time')\n",
        "plt.ylabel('Google Stock Price')\n",
        "plt.legend()\n",
        "plt.show()\n"
      ]
    }
  ],
  "metadata": {
    "colab": {
      "provenance": [],
      "include_colab_link": true
    },
    "kernelspec": {
      "display_name": "Python 3.9.13 ('tensorflow')",
      "language": "python",
      "name": "python3"
    },
    "language_info": {
      "codemirror_mode": {
        "name": "ipython",
        "version": 3
      },
      "file_extension": ".py",
      "mimetype": "text/x-python",
      "name": "python",
      "nbconvert_exporter": "python",
      "pygments_lexer": "ipython3",
      "version": "3.9.13"
    },
    "vscode": {
      "interpreter": {
        "hash": "4bd624a0593993fe43ac4046b27b898fb2ef75c21c08f81e89e64ea0f51df676"
      }
    }
  },
  "nbformat": 4,
  "nbformat_minor": 0
}